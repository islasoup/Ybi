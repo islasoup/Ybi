{
 "cells": [
  {
   "cell_type": "markdown",
   "metadata": {},
   "source": [
    "#  Predicting Wine quality from a UCI machine learning repository Dataset "
   ]
  },
  {
   "cell_type": "markdown",
   "metadata": {},
   "source": [
    "### importing the files  into dataframes"
   ]
  },
  {
   "cell_type": "code",
   "execution_count": 1,
   "metadata": {
    "collapsed": false,
    "scrolled": true
   },
   "outputs": [
    {
     "name": "stdout",
     "output_type": "stream",
     "text": [
      "   fixed acidity  volatile acidity  citric acid  residual sugar  chlorides  \\\n",
      "0            7.4               0.7            0             1.9      0.076   \n",
      "\n",
      "   free sulfur dioxide  total sulfur dioxide  density    pH  sulphates  \\\n",
      "0                   11                    34   0.9978  3.51       0.56   \n",
      "\n",
      "   alcohol  quality  \n",
      "0      9.4        5  \n",
      "\n",
      "\n"
     ]
    },
    {
     "data": {
      "text/html": [
       "<div>\n",
       "<table border=\"1\" class=\"dataframe\">\n",
       "  <thead>\n",
       "    <tr style=\"text-align: right;\">\n",
       "      <th></th>\n",
       "      <th>fixed acidity</th>\n",
       "      <th>volatile acidity</th>\n",
       "      <th>citric acid</th>\n",
       "      <th>residual sugar</th>\n",
       "      <th>chlorides</th>\n",
       "      <th>free sulfur dioxide</th>\n",
       "      <th>total sulfur dioxide</th>\n",
       "      <th>density</th>\n",
       "      <th>pH</th>\n",
       "      <th>sulphates</th>\n",
       "      <th>alcohol</th>\n",
       "      <th>quality</th>\n",
       "    </tr>\n",
       "  </thead>\n",
       "  <tbody>\n",
       "    <tr>\n",
       "      <th>count</th>\n",
       "      <td>1599.000000</td>\n",
       "      <td>1599.000000</td>\n",
       "      <td>1599.000000</td>\n",
       "      <td>1599.000000</td>\n",
       "      <td>1599.000000</td>\n",
       "      <td>1599.000000</td>\n",
       "      <td>1599.000000</td>\n",
       "      <td>1599.000000</td>\n",
       "      <td>1599.000000</td>\n",
       "      <td>1599.000000</td>\n",
       "      <td>1599.000000</td>\n",
       "      <td>1599.000000</td>\n",
       "    </tr>\n",
       "    <tr>\n",
       "      <th>mean</th>\n",
       "      <td>8.319637</td>\n",
       "      <td>0.527821</td>\n",
       "      <td>0.270976</td>\n",
       "      <td>2.538806</td>\n",
       "      <td>0.087467</td>\n",
       "      <td>15.874922</td>\n",
       "      <td>46.467792</td>\n",
       "      <td>0.996747</td>\n",
       "      <td>3.311113</td>\n",
       "      <td>0.658149</td>\n",
       "      <td>10.422983</td>\n",
       "      <td>5.636023</td>\n",
       "    </tr>\n",
       "    <tr>\n",
       "      <th>std</th>\n",
       "      <td>1.741096</td>\n",
       "      <td>0.179060</td>\n",
       "      <td>0.194801</td>\n",
       "      <td>1.409928</td>\n",
       "      <td>0.047065</td>\n",
       "      <td>10.460157</td>\n",
       "      <td>32.895324</td>\n",
       "      <td>0.001887</td>\n",
       "      <td>0.154386</td>\n",
       "      <td>0.169507</td>\n",
       "      <td>1.065668</td>\n",
       "      <td>0.807569</td>\n",
       "    </tr>\n",
       "    <tr>\n",
       "      <th>min</th>\n",
       "      <td>4.600000</td>\n",
       "      <td>0.120000</td>\n",
       "      <td>0.000000</td>\n",
       "      <td>0.900000</td>\n",
       "      <td>0.012000</td>\n",
       "      <td>1.000000</td>\n",
       "      <td>6.000000</td>\n",
       "      <td>0.990070</td>\n",
       "      <td>2.740000</td>\n",
       "      <td>0.330000</td>\n",
       "      <td>8.400000</td>\n",
       "      <td>3.000000</td>\n",
       "    </tr>\n",
       "    <tr>\n",
       "      <th>25%</th>\n",
       "      <td>7.100000</td>\n",
       "      <td>0.390000</td>\n",
       "      <td>0.090000</td>\n",
       "      <td>1.900000</td>\n",
       "      <td>0.070000</td>\n",
       "      <td>7.000000</td>\n",
       "      <td>22.000000</td>\n",
       "      <td>0.995600</td>\n",
       "      <td>3.210000</td>\n",
       "      <td>0.550000</td>\n",
       "      <td>9.500000</td>\n",
       "      <td>5.000000</td>\n",
       "    </tr>\n",
       "    <tr>\n",
       "      <th>50%</th>\n",
       "      <td>7.900000</td>\n",
       "      <td>0.520000</td>\n",
       "      <td>0.260000</td>\n",
       "      <td>2.200000</td>\n",
       "      <td>0.079000</td>\n",
       "      <td>14.000000</td>\n",
       "      <td>38.000000</td>\n",
       "      <td>0.996750</td>\n",
       "      <td>3.310000</td>\n",
       "      <td>0.620000</td>\n",
       "      <td>10.200000</td>\n",
       "      <td>6.000000</td>\n",
       "    </tr>\n",
       "    <tr>\n",
       "      <th>75%</th>\n",
       "      <td>9.200000</td>\n",
       "      <td>0.640000</td>\n",
       "      <td>0.420000</td>\n",
       "      <td>2.600000</td>\n",
       "      <td>0.090000</td>\n",
       "      <td>21.000000</td>\n",
       "      <td>62.000000</td>\n",
       "      <td>0.997835</td>\n",
       "      <td>3.400000</td>\n",
       "      <td>0.730000</td>\n",
       "      <td>11.100000</td>\n",
       "      <td>6.000000</td>\n",
       "    </tr>\n",
       "    <tr>\n",
       "      <th>max</th>\n",
       "      <td>15.900000</td>\n",
       "      <td>1.580000</td>\n",
       "      <td>1.000000</td>\n",
       "      <td>15.500000</td>\n",
       "      <td>0.611000</td>\n",
       "      <td>72.000000</td>\n",
       "      <td>289.000000</td>\n",
       "      <td>1.003690</td>\n",
       "      <td>4.010000</td>\n",
       "      <td>2.000000</td>\n",
       "      <td>14.900000</td>\n",
       "      <td>8.000000</td>\n",
       "    </tr>\n",
       "  </tbody>\n",
       "</table>\n",
       "</div>"
      ],
      "text/plain": [
       "       fixed acidity  volatile acidity  citric acid  residual sugar  \\\n",
       "count    1599.000000       1599.000000  1599.000000     1599.000000   \n",
       "mean        8.319637          0.527821     0.270976        2.538806   \n",
       "std         1.741096          0.179060     0.194801        1.409928   \n",
       "min         4.600000          0.120000     0.000000        0.900000   \n",
       "25%         7.100000          0.390000     0.090000        1.900000   \n",
       "50%         7.900000          0.520000     0.260000        2.200000   \n",
       "75%         9.200000          0.640000     0.420000        2.600000   \n",
       "max        15.900000          1.580000     1.000000       15.500000   \n",
       "\n",
       "         chlorides  free sulfur dioxide  total sulfur dioxide      density  \\\n",
       "count  1599.000000          1599.000000           1599.000000  1599.000000   \n",
       "mean      0.087467            15.874922             46.467792     0.996747   \n",
       "std       0.047065            10.460157             32.895324     0.001887   \n",
       "min       0.012000             1.000000              6.000000     0.990070   \n",
       "25%       0.070000             7.000000             22.000000     0.995600   \n",
       "50%       0.079000            14.000000             38.000000     0.996750   \n",
       "75%       0.090000            21.000000             62.000000     0.997835   \n",
       "max       0.611000            72.000000            289.000000     1.003690   \n",
       "\n",
       "                pH    sulphates      alcohol      quality  \n",
       "count  1599.000000  1599.000000  1599.000000  1599.000000  \n",
       "mean      3.311113     0.658149    10.422983     5.636023  \n",
       "std       0.154386     0.169507     1.065668     0.807569  \n",
       "min       2.740000     0.330000     8.400000     3.000000  \n",
       "25%       3.210000     0.550000     9.500000     5.000000  \n",
       "50%       3.310000     0.620000    10.200000     6.000000  \n",
       "75%       3.400000     0.730000    11.100000     6.000000  \n",
       "max       4.010000     2.000000    14.900000     8.000000  "
      ]
     },
     "execution_count": 1,
     "metadata": {},
     "output_type": "execute_result"
    }
   ],
   "source": [
    "%matplotlib inline\n",
    "import math\n",
    "import numpy as np\n",
    "import pandas as pd\n",
    "import matplotlib.pyplot as plt\n",
    "red_wine=pd.read_csv(\"data/winequality-red.csv\",sep=';')\n",
    "white_wine=pd.read_csv(\"data/winequality-white.csv\",sep=';')\n",
    "\n",
    "# having a look at the dataframes \n",
    "\n",
    "print(red_wine.head(1))\n",
    "print('\\n')\n",
    "red_wine.describe()\n"
   ]
  },
  {
   "cell_type": "code",
   "execution_count": 2,
   "metadata": {
    "collapsed": false
   },
   "outputs": [
    {
     "data": {
      "text/html": [
       "<div>\n",
       "<table border=\"1\" class=\"dataframe\">\n",
       "  <thead>\n",
       "    <tr style=\"text-align: right;\">\n",
       "      <th></th>\n",
       "      <th>fixed acidity</th>\n",
       "      <th>volatile acidity</th>\n",
       "      <th>citric acid</th>\n",
       "      <th>residual sugar</th>\n",
       "      <th>chlorides</th>\n",
       "      <th>free sulfur dioxide</th>\n",
       "      <th>total sulfur dioxide</th>\n",
       "      <th>density</th>\n",
       "      <th>pH</th>\n",
       "      <th>sulphates</th>\n",
       "      <th>alcohol</th>\n",
       "      <th>quality</th>\n",
       "    </tr>\n",
       "  </thead>\n",
       "  <tbody>\n",
       "    <tr>\n",
       "      <th>count</th>\n",
       "      <td>4898.000000</td>\n",
       "      <td>4898.000000</td>\n",
       "      <td>4898.000000</td>\n",
       "      <td>4898.000000</td>\n",
       "      <td>4898.000000</td>\n",
       "      <td>4898.000000</td>\n",
       "      <td>4898.000000</td>\n",
       "      <td>4898.000000</td>\n",
       "      <td>4898.000000</td>\n",
       "      <td>4898.000000</td>\n",
       "      <td>4898.000000</td>\n",
       "      <td>4898.000000</td>\n",
       "    </tr>\n",
       "    <tr>\n",
       "      <th>mean</th>\n",
       "      <td>6.854788</td>\n",
       "      <td>0.278241</td>\n",
       "      <td>0.334192</td>\n",
       "      <td>6.391415</td>\n",
       "      <td>0.045772</td>\n",
       "      <td>35.308085</td>\n",
       "      <td>138.360657</td>\n",
       "      <td>0.994027</td>\n",
       "      <td>3.188267</td>\n",
       "      <td>0.489847</td>\n",
       "      <td>10.514267</td>\n",
       "      <td>5.877909</td>\n",
       "    </tr>\n",
       "    <tr>\n",
       "      <th>std</th>\n",
       "      <td>0.843868</td>\n",
       "      <td>0.100795</td>\n",
       "      <td>0.121020</td>\n",
       "      <td>5.072058</td>\n",
       "      <td>0.021848</td>\n",
       "      <td>17.007137</td>\n",
       "      <td>42.498065</td>\n",
       "      <td>0.002991</td>\n",
       "      <td>0.151001</td>\n",
       "      <td>0.114126</td>\n",
       "      <td>1.230621</td>\n",
       "      <td>0.885639</td>\n",
       "    </tr>\n",
       "    <tr>\n",
       "      <th>min</th>\n",
       "      <td>3.800000</td>\n",
       "      <td>0.080000</td>\n",
       "      <td>0.000000</td>\n",
       "      <td>0.600000</td>\n",
       "      <td>0.009000</td>\n",
       "      <td>2.000000</td>\n",
       "      <td>9.000000</td>\n",
       "      <td>0.987110</td>\n",
       "      <td>2.720000</td>\n",
       "      <td>0.220000</td>\n",
       "      <td>8.000000</td>\n",
       "      <td>3.000000</td>\n",
       "    </tr>\n",
       "    <tr>\n",
       "      <th>25%</th>\n",
       "      <td>6.300000</td>\n",
       "      <td>0.210000</td>\n",
       "      <td>0.270000</td>\n",
       "      <td>1.700000</td>\n",
       "      <td>0.036000</td>\n",
       "      <td>23.000000</td>\n",
       "      <td>108.000000</td>\n",
       "      <td>0.991723</td>\n",
       "      <td>3.090000</td>\n",
       "      <td>0.410000</td>\n",
       "      <td>9.500000</td>\n",
       "      <td>5.000000</td>\n",
       "    </tr>\n",
       "    <tr>\n",
       "      <th>50%</th>\n",
       "      <td>6.800000</td>\n",
       "      <td>0.260000</td>\n",
       "      <td>0.320000</td>\n",
       "      <td>5.200000</td>\n",
       "      <td>0.043000</td>\n",
       "      <td>34.000000</td>\n",
       "      <td>134.000000</td>\n",
       "      <td>0.993740</td>\n",
       "      <td>3.180000</td>\n",
       "      <td>0.470000</td>\n",
       "      <td>10.400000</td>\n",
       "      <td>6.000000</td>\n",
       "    </tr>\n",
       "    <tr>\n",
       "      <th>75%</th>\n",
       "      <td>7.300000</td>\n",
       "      <td>0.320000</td>\n",
       "      <td>0.390000</td>\n",
       "      <td>9.900000</td>\n",
       "      <td>0.050000</td>\n",
       "      <td>46.000000</td>\n",
       "      <td>167.000000</td>\n",
       "      <td>0.996100</td>\n",
       "      <td>3.280000</td>\n",
       "      <td>0.550000</td>\n",
       "      <td>11.400000</td>\n",
       "      <td>6.000000</td>\n",
       "    </tr>\n",
       "    <tr>\n",
       "      <th>max</th>\n",
       "      <td>14.200000</td>\n",
       "      <td>1.100000</td>\n",
       "      <td>1.660000</td>\n",
       "      <td>65.800000</td>\n",
       "      <td>0.346000</td>\n",
       "      <td>289.000000</td>\n",
       "      <td>440.000000</td>\n",
       "      <td>1.038980</td>\n",
       "      <td>3.820000</td>\n",
       "      <td>1.080000</td>\n",
       "      <td>14.200000</td>\n",
       "      <td>9.000000</td>\n",
       "    </tr>\n",
       "  </tbody>\n",
       "</table>\n",
       "</div>"
      ],
      "text/plain": [
       "       fixed acidity  volatile acidity  citric acid  residual sugar  \\\n",
       "count    4898.000000       4898.000000  4898.000000     4898.000000   \n",
       "mean        6.854788          0.278241     0.334192        6.391415   \n",
       "std         0.843868          0.100795     0.121020        5.072058   \n",
       "min         3.800000          0.080000     0.000000        0.600000   \n",
       "25%         6.300000          0.210000     0.270000        1.700000   \n",
       "50%         6.800000          0.260000     0.320000        5.200000   \n",
       "75%         7.300000          0.320000     0.390000        9.900000   \n",
       "max        14.200000          1.100000     1.660000       65.800000   \n",
       "\n",
       "         chlorides  free sulfur dioxide  total sulfur dioxide      density  \\\n",
       "count  4898.000000          4898.000000           4898.000000  4898.000000   \n",
       "mean      0.045772            35.308085            138.360657     0.994027   \n",
       "std       0.021848            17.007137             42.498065     0.002991   \n",
       "min       0.009000             2.000000              9.000000     0.987110   \n",
       "25%       0.036000            23.000000            108.000000     0.991723   \n",
       "50%       0.043000            34.000000            134.000000     0.993740   \n",
       "75%       0.050000            46.000000            167.000000     0.996100   \n",
       "max       0.346000           289.000000            440.000000     1.038980   \n",
       "\n",
       "                pH    sulphates      alcohol      quality  \n",
       "count  4898.000000  4898.000000  4898.000000  4898.000000  \n",
       "mean      3.188267     0.489847    10.514267     5.877909  \n",
       "std       0.151001     0.114126     1.230621     0.885639  \n",
       "min       2.720000     0.220000     8.000000     3.000000  \n",
       "25%       3.090000     0.410000     9.500000     5.000000  \n",
       "50%       3.180000     0.470000    10.400000     6.000000  \n",
       "75%       3.280000     0.550000    11.400000     6.000000  \n",
       "max       3.820000     1.080000    14.200000     9.000000  "
      ]
     },
     "execution_count": 2,
     "metadata": {},
     "output_type": "execute_result"
    }
   ],
   "source": [
    "white_wine.describe()"
   ]
  },
  {
   "cell_type": "markdown",
   "metadata": {},
   "source": [
    "We are dealing only with numerical values , we can see the 11 features and the target variable : quality. For red wine : we have 1599 entries in all columns , there does not seem to be any missing data.The target value quality is in the range [3,8] for red wine . For the white wine , we have more datapoints : 4898 and a quality range of [3,9]. We also notice that we only have numerical features that take real values."
   ]
  },
  {
   "cell_type": "markdown",
   "metadata": {},
   "source": [
    "##### About duplicates:\n",
    "\n",
    "Looking at the dataset for red_wine and white wine we notice that we have 240 duplicate for the red_wine set and 937 for the white one. It is true that a sample with duplicates will be biased towards them , but if they appear as part of a natural sampling then they do add more information and hence should be kept. Since there is no information about how the dataset samples were taken , we assume that we are in the second case and hence keep the duplicates."
   ]
  },
  {
   "cell_type": "code",
   "execution_count": 3,
   "metadata": {
    "collapsed": false
   },
   "outputs": [
    {
     "name": "stdout",
     "output_type": "stream",
     "text": [
      " number of duplicates in red wine:  240\n",
      " number of duplicates in white wine:  937\n"
     ]
    }
   ],
   "source": [
    "print \" number of duplicates in red wine:  \"+str(np.sum(np.array(red_wine.duplicated())))\n",
    "print \" number of duplicates in white wine:  \"+str(np.sum(np.array(white_wine.duplicated())))"
   ]
  },
  {
   "cell_type": "markdown",
   "metadata": {},
   "source": [
    "## Number of examples with each target value for the two datasets.\n"
   ]
  },
  {
   "cell_type": "code",
   "execution_count": 4,
   "metadata": {
    "collapsed": false
   },
   "outputs": [
    {
     "data": {
      "image/png": "[encoded data removed]",
      "text/plain": [
       "<matplotlib.figure.Figure at 0x7f685867bb10>"
      ]
     },
     "metadata": {},
     "output_type": "display_data"
    },
    {
     "data": {
      "image/png": "[encoded data removed]",
      "text/plain": [
       "<matplotlib.figure.Figure at 0x7f685867bed0>"
      ]
     },
     "metadata": {},
     "output_type": "display_data"
    }
   ],
   "source": [
    "\n",
    "red_counts=red_wine.groupby('quality').size()\n",
    "plt.xlabel(\"Quality\")\n",
    "plt.ylabel(\"Number of examples\")\n",
    "plt.title('Figure 1: number of examples with each target value(red whine)')\n",
    "red_counts.plot(kind='bar',color='r')\n",
    "plt.show()\n",
    "\n",
    "white_counts=white_wine.groupby('quality').size()\n",
    "plt.xlabel(\"Quality\")\n",
    "plt.ylabel(\"Number of examples\")\n",
    "plt.title('Figure 2: number of examples with each target value (white wine)')\n",
    "white_counts.plot(kind='bar',color='w')\n",
    "plt.show()"
   ]
  },
  {
   "cell_type": "markdown",
   "metadata": {},
   "source": [
    "We notice that for both datasets follow a gaussian distribution with a mean  between 5 and 6, and with low variance since targets below 3 and above 8 are non existant. This will affect our analysis in the sense that it will be hard to predict a quality out of the ranges we have in our training set."
   ]
  },
  {
   "cell_type": "markdown",
   "metadata": {},
   "source": [
    "## First model: Linear regression."
   ]
  },
  {
   "cell_type": "code",
   "execution_count": 9,
   "metadata": {
    "collapsed": false
   },
   "outputs": [
    {
     "name": "stdout",
     "output_type": "stream",
     "text": [
      "mean square error:  0.465685986352\n"
     ]
    },
    {
     "data": {
      "image/png": "[encoded data removed]",
      "text/plain": [
       "<matplotlib.figure.Figure at 0x7f6855e2ee90>"
      ]
     },
     "metadata": {},
     "output_type": "display_data"
    }
   ],
   "source": [
    "import warnings\n",
    "warnings.filterwarnings('ignore')\n",
    "\n",
    "## (a) Randomly splitting the data into a training and test set.\n",
    "\n",
    "# shuffling indices.\n",
    "n=len(red_wine)\n",
    "split=n*0.7  # working with python 2.\n",
    "indices=np.arange(n)\n",
    "np.random.shuffle(indices)\n",
    "# taking train data and test data\n",
    "\n",
    "train_red=red_wine.iloc[indices[:split],:]\n",
    "test_red=red_wine.iloc[indices[split:],:]\n",
    "\n",
    "\n",
    "##  (b) Fitting a linear regression to the Data.\n",
    "\n",
    "train_red_X=train_red.iloc[:,:-1].values\n",
    "train_red_X=np.insert(train_red_X,0,1,axis=1)\n",
    "train_red_t=train_red.iloc[:,-1:].values\n",
    "red_w=np.linalg.inv(train_red_X.transpose().dot(train_red_X))\\\n",
    ".dot(train_red_X.transpose()).dot(train_red_t)\n",
    "\n",
    "# taking X and t for test data and making predictions:\n",
    "test_red_X=test_red.iloc[:,:-1].values\n",
    "test_red_X=np.insert(test_red_X,0,1,axis=1)\n",
    "test_red_t=test_red.iloc[:,-1:].values\n",
    "predictions=test_red_X.dot(red_w)\n",
    "\n",
    "\n",
    "## (c) Making a scatter plot of the predictions versus true targets.\n",
    "\n",
    "plt.figure(figsize=(20,10))\n",
    "plt.title('Figure 3: Predictions vs true targets')\n",
    "plt.xlabel('True targets')\n",
    "plt.ylabel('Predictions')     \n",
    "plt.xlim(0,10)\n",
    "plt.ylim(0, 10)\n",
    "plt.gca().set_aspect('equal', adjustable='box')\n",
    "plt.scatter(test_red_t,predictions,s=80,marker='o')\n",
    "plt.plot(np.arange(10),p.arange(10),color='r')\n",
    "\n",
    "#Calculating and printing the squared mean error\n",
    "\n",
    "mean_error= np.mean(np.square(predictions-test_red_t))\n",
    "print \"mean square error:  \" +str(mean_error)\n"
   ]
  },
  {
   "cell_type": "markdown",
   "metadata": {
    "collapsed": true
   },
   "source": [
    "Since the quality ranges between 3 and 8 , we can propose such  a benchmark : if mean error < 10% * range then the value is good , otherwise the value is too high , then for each point in our predictions we can classify if it is an exact value if it rounds up to the target value , within benchmark if the difference between the prediction and the real value is less than 1 , and outside this difference if is more than 1. We notice in the plot bellow that most of the features fall within the benchmark proposed , and the the mean square error is les than range x 0.1=1 so the model is accepted with respect to the benchmark proposed."
   ]
  },
  {
   "cell_type": "code",
   "execution_count": 17,
   "metadata": {
    "collapsed": false
   },
   "outputs": [
    {
     "data": {
      "text/plain": [
       "<matplotlib.axes._subplots.AxesSubplot at 0x7f68551b2410>"
      ]
     },
     "execution_count": 17,
     "metadata": {},
     "output_type": "execute_result"
    },
    {
     "data": {
      "image/png": "[encoded data removed]",
      "text/plain": [
       "<matplotlib.figure.Figure at 0x7f6855397250>"
      ]
     },
     "metadata": {},
     "output_type": "display_data"
    }
   ],
   "source": [
    "threshold=0.1*(max(test_red_t)-min(test_red_t))\n",
    "Error_classes={}\n",
    "Error_classes['Exact']=0\n",
    "Error_classes['Within benchmark']=0\n",
    "Error_classes['Outside benchmark']=0\n",
    "def benchmark(error):\n",
    "    if error<=threshold:\n",
    "        return 1\n",
    "    return 0\n",
    "    \n",
    "for i in range(len(predictions)):\n",
    "    error=np.square(predictions[i][0]-test_red_t[i][0])\n",
    "    if benchmark(error):\n",
    "        if round(predictions[i],1)==test_red_t[i]:\n",
    "            Error_classes['Exact']+=1\n",
    "        else:\n",
    "            Error_classes['Within benchmark']+=1\n",
    "    else:\n",
    "        Error_classes['Outside benchmark']+=1\n",
    "Error_classes_serie=pd.Series(Error_classes)\n",
    "plt.title('Figure 4: Number of samples within benchmark')\n",
    "Error_classes_serie.plot(kind='bar',color='b')"
   ]
  },
  {
   "cell_type": "markdown",
   "metadata": {},
   "source": [
    "## Regularized linear regression:"
   ]
  },
  {
   "cell_type": "code",
   "execution_count": 20,
   "metadata": {
    "collapsed": false
   },
   "outputs": [
    {
     "data": {
      "image/png": "[encoded data removed]",
      "text/plain": [
       "<matplotlib.figure.Figure at 0x7f68554707d0>"
      ]
     },
     "metadata": {},
     "output_type": "display_data"
    },
    {
     "name": "stdout",
     "output_type": "stream",
     "text": [
      "best MSE: 0.465686388893\n",
      "\n",
      "best regularization parameter:1e-06\n"
     ]
    }
   ],
   "source": [
    "## Implementing regularized least squares and making a plot of test performance vs regularization parameter.\n",
    "\n",
    "# By recomputing the loss when adding the regularization parameter : lambda*W'*W , when we derive the loss with\n",
    "# respect to w and set the result to zero we obtain :  W=(X'*X+lambda*I)^-1 *X'*t.\n",
    "\n",
    "def reg_linear_reg(X,t,lmbda):\n",
    "    K=X.shape[1]\n",
    "    I=np.identity(K)\n",
    "    I[0][0]=0    # convention that we do not regularize parameter W0.\n",
    "    return (np.linalg.inv(X.transpose().dot(X)+lmbda*I)\\\n",
    "        .dot(X.transpose()).dot(t))\n",
    "\n",
    "# training regularized linear regression for different regularization\n",
    "# parameters and calculating MSE.\n",
    "\n",
    "lambdas=np.array([10**(i-6) for i in range(0,8)])\n",
    "MSEs=[]\n",
    "for lmbda in lambdas:\n",
    "    red_wreg=reg_linear_reg(train_red_X,train_red_t,lmbda)\n",
    "    predictions=test_red_X.dot(red_wreg)\n",
    "    MSEs.append(np.mean(np.square(predictions-test_red_t)))\n",
    "# Making a plot of MSE versus regularization parameter:\n",
    "plt.xlabel(\"Regularization param\")\n",
    "plt.xscale('log')\n",
    "plt.ylabel(\"MSE\")\n",
    "plt.title(' Figure 5: Test performance for different reg params')\n",
    "plt.plot(lambdas,MSEs,color='r')\n",
    "plt.show()\n",
    "print \"best MSE: \"+str(np.min(MSEs))+\"\\n\"\n",
    "print \"best regularization parameter:\"+str(lambdas[np.argmin(MSEs)])\n"
   ]
  },
  {
   "cell_type": "markdown",
   "metadata": {},
   "source": [
    "This is not a good way of determening the regularization parameter because if we only split the dataset in train set and test set and choose test set to compute lambda , then when we want to compute the test error our result will be biased since we already used the test set to choose lambda and we don't know if the model generalises well , so we can't compare different models."
   ]
  },
  {
   "cell_type": "code",
   "execution_count": 19,
   "metadata": {
    "collapsed": false,
    "scrolled": true
   },
   "outputs": [
    {
     "name": "stdout",
     "output_type": "stream",
     "text": [
      "best parameter:   0.0001\n"
     ]
    },
    {
     "data": {
      "image/png": "[encoded data removed]",
      "text/plain": [
       "<matplotlib.figure.Figure at 0x7f6855459590>"
      ]
     },
     "metadata": {},
     "output_type": "display_data"
    }
   ],
   "source": [
    "# 5.c Performing 10 fold cross validation and selecting best regularization parameter:\n",
    "\n",
    "Nfold=10\n",
    "N=train_red_X.shape[0]\n",
    "folds=[int(N/Nfold) for i in range(Nfold)]\n",
    "cfolds=np.cumsum(folds)\n",
    "cfolds=np.insert(cfolds,0,0)\n",
    "params=np.array([10**(i-6) for i in range(0,8)])\n",
    "errors=[ [] for i in range(len(params))]\n",
    "c=0\n",
    "for param in params:\n",
    "    for f in range(Nfold):\n",
    "            trainX=train_red_X\n",
    "            traint=train_red_t\n",
    "            # remove test points \n",
    "            np.delete(trainX,range(cfolds[f],cfolds[f+1]),0)\n",
    "            np.delete(traint,range(cfolds[f],cfolds[f+1]),0)\n",
    "            # Creating test points:\n",
    "            testX = train_red_X[cfolds[f]:cfolds[f+1]]\n",
    "            testt = train_red_t[cfolds[f]:cfolds[f+1]]\n",
    "            # training regularized linear regression and making preds\n",
    "            wreg=reg_linear_reg(trainX,traint,param)\n",
    "            preds=testX.dot(wreg)\n",
    "            err=np.mean(np.square(preds-testt))\n",
    "            errors[c].append(err)\n",
    "    c+=1\n",
    "    \n",
    "mean_errors=[np.mean(error) for error in errors]  \n",
    "index_min=np.argmin(mean_errors)\n",
    "print(\"best parameter:   \"+str(params[index_min]))\n",
    "\n",
    "# Making a plot of MSE versus regularization parameter:\n",
    "plt.title('Figure 6: Mean Error vs Regularization parameter')\n",
    "plt.xlabel(\"Regularization param\")\n",
    "plt.xscale('log')\n",
    "plt.ylabel(\"Mean error \")\n",
    "#plt.title('Figure 5: cv error for different reg params')\n",
    "plt.plot(params,mean_errors,color='b')\n",
    "plt.show()\n"
   ]
  },
  {
   "cell_type": "markdown",
   "metadata": {},
   "source": [
    "The least mean error corresponds to the lowest values of lambda which is close to 0 , we have the same mean square error after doing a regularized linear regression : to make sure it is the case we propose to plot train and test error bellow as a function of dataset size. So our model does not suffer from overfitting , and regularized linear regression is not the way to go."
   ]
  },
  {
   "cell_type": "code",
   "execution_count": 34,
   "metadata": {
    "collapsed": false
   },
   "outputs": [
    {
     "data": {
      "text/plain": [
       "<matplotlib.legend.Legend at 0x7f6854dd8590>"
      ]
     },
     "execution_count": 34,
     "metadata": {},
     "output_type": "execute_result"
    },
    {
     "data": {
      "image/png": "[encoded data removed]",
      "text/plain": [
       "<matplotlib.figure.Figure at 0x7f6855586990>"
      ]
     },
     "metadata": {},
     "output_type": "display_data"
    }
   ],
   "source": [
    "Error_train=[]\n",
    "Error_test=[]\n",
    "for m in np.arange(10,N):\n",
    "    train_X_m=train_red_X[:m]\n",
    "    train_t_m=train_red_t[:m]\n",
    "    test_X_m=train_red_X[m:]\n",
    "    test_t_m=train_red_t[m:]\n",
    "    w_m=reg_linear_reg(train_X_m,train_t_m,10**(-6))\n",
    "    preds_train=train_X_m.dot(w_m)\n",
    "    preds_test=test_X_m.dot(w_m)\n",
    "    Error_train.append(np.mean(np.square(preds_train-train_t_m)))\n",
    "    Error_test.append(np.mean(np.square(preds_test-test_t_m)))\n",
    "    \n",
    "plt.title('Figure 7: Train and Test errors: ')\n",
    "Train, =plt.plot(np.arange(10,N),Error_train,color='b',label='Train error')\n",
    "Test, =plt.plot(np.arange(10,N),Error_test,color='r',label='Test error')\n",
    "plt.ylabel('MSE')\n",
    "plt.xlabel('Number of samples')\n",
    "plt.legend(handles=[Train,Test])\n",
    "\n",
    "\n",
    "    "
   ]
  },
  {
   "cell_type": "markdown",
   "metadata": {},
   "source": [
    "##  Classification:\n",
    "  \n",
    "#### Limitation of  regression for this task : \n",
    "\n",
    "Looking at the quality values ( cell bellow ) we see that the target value quality takes values in the integer interval [3,8] , more of a categorical feature than a numerical one , so the task of predicting quality is more of a classification problem than a regression one , and linear regression is not the correct way to do it. \n"
   ]
  },
  {
   "cell_type": "markdown",
   "metadata": {},
   "source": [
    "#### Positive and negative feature of Naive Bayes with respect to this dataset:\n",
    "\n",
    "Naive Bayes gives us the possibility of tweaking the results as we have probability of \n",
    "belonging to certain class ( probabilistic classifier) , and hence tweek the threshold depending on the exigence of clients. Naive Bayes is also a good choice because we don't have a large dataset so it is not computationnaly expensive to go with this approach. One negative feature of it is that we have to assume independence between different features which may not be true as some features can be strongly correlated : pH and fixed acidity for example.\n",
    "\n"
   ]
  },
  {
   "cell_type": "markdown",
   "metadata": {},
   "source": [
    "#### Data pre-processing:\n",
    "\n",
    "A good thing about Naive Bayes is that we do not need to perform feature scaling since we are calculating probabilities. But we have to pre-process our data to be able to calculate likelihood for each feature for each class : We have to first split dataset in classes ( dictionary in the code below) and then for each class take each feature and calculate the mean and standard deviation for that column. "
   ]
  },
  {
   "cell_type": "code",
   "execution_count": 35,
   "metadata": {
    "collapsed": false
   },
   "outputs": [],
   "source": [
    "import math\n",
    "from __future__ import division\n",
    "\n",
    "# First we separate data by classes.\n",
    "\n",
    "def separateByClass(dataset):  # takes a dataframe as input and separates data by class , returns dict.\n",
    "    separated = {}\n",
    "    for i in range(len(dataset)):\n",
    "        vector = dataset.iloc[i,:]\n",
    "        if (vector[-1] not in separated.keys()):\n",
    "            separated[vector[-1]] = []\n",
    "        separated[vector[-1]].append(vector)\n",
    "    return separated\n",
    "\n",
    "# function to return mean and standard deviation for every attribute in dataset.\n",
    "def summarize(dataset):\n",
    "    summaries = [(np.mean(attribute), np.std(attribute)) for attribute in zip(*dataset)]\n",
    "    del summaries[-1]\n",
    "    return summaries\n",
    "\n",
    "def summarizeByClass(dataset):\n",
    "    separated = separateByClass(dataset)\n",
    "    summaries = {}\n",
    "    for classNumber, instances in separated.items():\n",
    "        summaries[classNumber] = summarize(instances)\n",
    "    return summaries\n",
    "\n",
    "def calculateProbability(x, mean, stdev):\n",
    "    exponent = math.exp(-(math.pow(x-mean,2)/(2*math.pow(stdev,2))))\n",
    "    return (1 / (math.sqrt(2*math.pi) * stdev)) * exponent\n",
    "\n",
    "# Naive Bayes assumption of independence between attributes permits to calculate probability of belonging\n",
    "# to a class.\n",
    "def calculateClassProbabilities(dataset, inputVector):\n",
    "    summaries=summarizeByClass(dataset)\n",
    "    probabilities = {}\n",
    "    N=len(dataset)\n",
    "    separated_dataset=separateByClass(dataset)\n",
    "    for classNumber, classSummaries in summaries.items():\n",
    "        probabilities[classNumber] = 1\n",
    "        for i in range(len(classSummaries)):\n",
    "            mean, stdev = classSummaries[i]\n",
    "            x = inputVector[i]\n",
    "            probabilities[classNumber] *= calculateProbability(x, mean, stdev)\n",
    "        probabilities[classNumber]*= (len(separated_dataset[classNumber]))/N\n",
    "    return probabilities\n",
    "\n",
    "def predict(dataset, inputVector):\n",
    "    probabilities = calculateClassProbabilities(dataset, inputVector)\n",
    "    bestLabel, bestProb = None, -1\n",
    "    for classValue, probability in probabilities.items():\n",
    "        if bestLabel is None or probability >= bestProb:\n",
    "            bestProb = probability\n",
    "            bestLabel = classValue\n",
    "    return bestLabel\n",
    "\n",
    "def makePredictions(dataset,testset):\n",
    "    predictions=[]\n",
    "    for inputVector in testset:\n",
    "        prediction=predict(dataset,inputVector)\n",
    "        predictions.append(prediction)\n",
    "    return predictions\n",
    "test_red_X2=test_red.iloc[:,:-1].values\n",
    "predictions=makePredictions(train_red,test_red_X2)"
   ]
  },
  {
   "cell_type": "code",
   "execution_count": 36,
   "metadata": {
    "collapsed": false
   },
   "outputs": [
    {
     "name": "stdout",
     "output_type": "stream",
     "text": [
      "quality\n",
      "3     10\n",
      "4     53\n",
      "5    681\n",
      "6    638\n",
      "7    199\n",
      "8     18\n",
      "dtype: int64\n"
     ]
    }
   ],
   "source": [
    "quality_values=red_wine.groupby('quality').size()\n",
    "print(quality_values)\n",
    "        "
   ]
  },
  {
   "cell_type": "code",
   "execution_count": 37,
   "metadata": {
    "collapsed": false
   },
   "outputs": [
    {
     "name": "stdout",
     "output_type": "stream",
     "text": [
      "accuracy:  51.6666666667%\n"
     ]
    }
   ],
   "source": [
    "#Accuracy of the classifier:\n",
    "correct_preds=0\n",
    "for i in range(len(predictions)):\n",
    "    if predictions[i]==test_red_t[i]:\n",
    "        correct_preds+=1\n",
    "acc=correct_preds/len(test_red_t)\n",
    "print \"accuracy:  \"+str(acc*100)+\"%\""
   ]
  },
  {
   "cell_type": "markdown",
   "metadata": {},
   "source": [
    "######  We have an accuracy of 51.67 % which is fairly good , since we have 6 classes and an absurd classifier that always predicts the same values would have an accuracy of 16.67% only. As a probabiistic classifier , Naive Bayes doesn't need any parameters tuning and no costy cross Validation. We could change the threshold (instead of 0.5 ) but that would depend on the application and is not related to the performance of the model. "
   ]
  },
  {
   "cell_type": "markdown",
   "metadata": {},
   "source": [
    "#### Displaying the Confusion Matrix."
   ]
  },
  {
   "cell_type": "code",
   "execution_count": 223,
   "metadata": {
    "collapsed": false
   },
   "outputs": [
    {
     "name": "stdout",
     "output_type": "stream",
     "text": [
      "Confusion Matrix:\n",
      "\n"
     ]
    },
    {
     "data": {
      "text/html": [
       "<div>\n",
       "<table border=\"1\" class=\"dataframe\">\n",
       "  <thead>\n",
       "    <tr style=\"text-align: right;\">\n",
       "      <th></th>\n",
       "      <th>3</th>\n",
       "      <th>4</th>\n",
       "      <th>5</th>\n",
       "      <th>6</th>\n",
       "      <th>7</th>\n",
       "      <th>8</th>\n",
       "    </tr>\n",
       "  </thead>\n",
       "  <tbody>\n",
       "    <tr>\n",
       "      <th>3</th>\n",
       "      <td>0</td>\n",
       "      <td>2</td>\n",
       "      <td>2</td>\n",
       "      <td>0</td>\n",
       "      <td>0</td>\n",
       "      <td>0</td>\n",
       "    </tr>\n",
       "    <tr>\n",
       "      <th>4</th>\n",
       "      <td>0</td>\n",
       "      <td>4</td>\n",
       "      <td>12</td>\n",
       "      <td>4</td>\n",
       "      <td>0</td>\n",
       "      <td>0</td>\n",
       "    </tr>\n",
       "    <tr>\n",
       "      <th>5</th>\n",
       "      <td>1</td>\n",
       "      <td>5</td>\n",
       "      <td>138</td>\n",
       "      <td>50</td>\n",
       "      <td>5</td>\n",
       "      <td>0</td>\n",
       "    </tr>\n",
       "    <tr>\n",
       "      <th>6</th>\n",
       "      <td>0</td>\n",
       "      <td>5</td>\n",
       "      <td>62</td>\n",
       "      <td>86</td>\n",
       "      <td>34</td>\n",
       "      <td>0</td>\n",
       "    </tr>\n",
       "    <tr>\n",
       "      <th>7</th>\n",
       "      <td>0</td>\n",
       "      <td>0</td>\n",
       "      <td>4</td>\n",
       "      <td>28</td>\n",
       "      <td>33</td>\n",
       "      <td>1</td>\n",
       "    </tr>\n",
       "    <tr>\n",
       "      <th>8</th>\n",
       "      <td>0</td>\n",
       "      <td>0</td>\n",
       "      <td>0</td>\n",
       "      <td>0</td>\n",
       "      <td>4</td>\n",
       "      <td>0</td>\n",
       "    </tr>\n",
       "  </tbody>\n",
       "</table>\n",
       "</div>"
      ],
      "text/plain": [
       "   3  4    5   6   7  8\n",
       "3  0  2    2   0   0  0\n",
       "4  0  4   12   4   0  0\n",
       "5  1  5  138  50   5  0\n",
       "6  0  5   62  86  34  0\n",
       "7  0  0    4  28  33  1\n",
       "8  0  0    0   0   4  0"
      ]
     },
     "execution_count": 223,
     "metadata": {},
     "output_type": "execute_result"
    }
   ],
   "source": [
    "\n",
    "predictions=np.array(predictions)\n",
    "format_test_red_t=np.array([x[0] for x in test_red_t])\n",
    "classes=[3,4,5,6,7,8]\n",
    "Confusion_matrix=[[] for i in range(len(classes))]\n",
    "for i in range(len(classes)):\n",
    "    for j in range(len(classes)):\n",
    "        Confusion_matrix[i].append(np.sum(np.all([predictions==classes[j],\\\n",
    "                                                  format_test_red_t==classes[i]],axis=0)))\n",
    "\n",
    "    \n",
    "# The predicted classes are on the columns , and the real classes are on the lines.    \n",
    "Confusion_df=pd.DataFrame(Confusion_matrix,classes,classes)\n",
    "print \"Confusion Matrix:\"+\"\\n\"\n",
    "Confusion_df"
   ]
  },
  {
   "cell_type": "markdown",
   "metadata": {
    "collapsed": true
   },
   "source": [
    "A good performance matrix should be diagonal. It is not what we see in this case , so our classification is not very accurate. This comes back to the observation we made about the dataset in the first question , as we noticed it was a gaussian centered somewhere between 5 and 6 , which are the values that our algorithms predicts the most.\n",
    "\n",
    "\n",
    "\n",
    "-> One step to improve the performance would be to gather more data especially for the classes bellow zero and above.\n",
    "\n",
    "\n",
    "->For this particulare case , we chose a gaussian distribution to calculate the likelihood , we can try to find another distribution that better fits the dataset  of Naive Bayes.\n",
    "\n",
    "\n",
    "->Since we assume that our features are independent , it is important to calculate the correlation between features and remove those who are redundant. "
   ]
  }
 ],
 "metadata": {
  "anaconda-cloud": {},
  "kernelspec": {
   "display_name": "Python [default]",
   "language": "python",
   "name": "python2"
  },
  "language_info": {
   "codemirror_mode": {
    "name": "ipython",
    "version": 2
   },
   "file_extension": ".py",
   "mimetype": "text/x-python",
   "name": "python",
   "nbconvert_exporter": "python",
   "pygments_lexer": "ipython2",
   "version": "2.7.12"
  }
 },
 "nbformat": 4,
 "nbformat_minor": 0
}
